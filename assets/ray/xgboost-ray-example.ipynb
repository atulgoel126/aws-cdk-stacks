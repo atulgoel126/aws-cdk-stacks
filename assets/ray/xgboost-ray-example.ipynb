{
 "cells": [
  {
   "cell_type": "code",
   "execution_count": null,
   "id": "6b6f1e5b-45c3-47f8-a56c-169269bbd1c7",
   "metadata": {},
   "outputs": [],
   "source": [
    "!pip install -qU \"ray[train]\"==2.7.0 \"ray[client]\"==2.7.0 xgboost_ray scikit-learn"
   ]
  },
  {
   "cell_type": "code",
   "execution_count": null,
   "id": "6104e06e-bc0e-4ef1-858b-fa594036cccc",
   "metadata": {},
   "outputs": [],
   "source": [
    "# Training\n",
    "from xgboost_ray import RayDMatrix, RayParams, train\n",
    "from sklearn.datasets import load_breast_cancer\n",
    "import ray"
   ]
  },
  {
   "cell_type": "code",
   "execution_count": null,
   "id": "9467a1cf-754b-4807-b9d2-8022ec80fc78",
   "metadata": {},
   "outputs": [],
   "source": [
    "ray.init(address=\"ray://raycluster-kuberay-head-svc.default.svc.cluster.local:10001\", runtime_env={\"pip\": [\"xgboost\", \"xgboost_ray\", \"scikit-learn\"]})"
   ]
  },
  {
   "cell_type": "code",
   "execution_count": null,
   "id": "95d834d5-fe65-4b5a-886d-8f7f46f4f090",
   "metadata": {},
   "outputs": [],
   "source": [
    "@ray.remote\n",
    "def train_model():\n",
    "    train_x, train_y = load_breast_cancer(return_X_y=True)\n",
    "    train_set = RayDMatrix(train_x, train_y)\n",
    "\n",
    "    evals_result = {}\n",
    "    bst = train(\n",
    "        {\n",
    "            \"objective\": \"binary:logistic\",\n",
    "            \"eval_metric\": [\"logloss\", \"error\"],\n",
    "        },\n",
    "        train_set,\n",
    "        evals_result=evals_result,\n",
    "        evals=[(train_set, \"train\")],\n",
    "        verbose_eval=False,\n",
    "        ray_params=RayParams(\n",
    "            num_actors=7,  # Number of remote actors\n",
    "            cpus_per_actor=1))\n",
    "\n",
    "    bst.save_model(\"model.xgb\")\n",
    "    print(\"Final training error: {:.4f}\".format(\n",
    "        evals_result[\"train\"][\"error\"][-1]))"
   ]
  },
  {
   "cell_type": "code",
   "execution_count": null,
   "id": "18c8d323-5293-4fa7-bd55-d804f051b289",
   "metadata": {},
   "outputs": [],
   "source": [
    "ray.get(train_model.remote())"
   ]
  },
  {
   "cell_type": "code",
   "execution_count": null,
   "id": "c470146b-f907-4a2e-b14f-35598466e1bd",
   "metadata": {},
   "outputs": [],
   "source": [
    "ray.shutdown()"
   ]
  },
  {
   "cell_type": "code",
   "execution_count": null,
   "id": "e3a552ba-d2cc-4f1e-b069-4fbf3334b008",
   "metadata": {},
   "outputs": [],
   "source": []
  }
 ],
 "metadata": {
  "kernelspec": {
   "display_name": "Python 3 (ipykernel)",
   "language": "python",
   "name": "python3"
  },
  "language_info": {
   "codemirror_mode": {
    "name": "ipython",
    "version": 3
   },
   "file_extension": ".py",
   "mimetype": "text/x-python",
   "name": "python",
   "nbconvert_exporter": "python",
   "pygments_lexer": "ipython3",
   "version": "3.8.13"
  }
 },
 "nbformat": 4,
 "nbformat_minor": 5
}
